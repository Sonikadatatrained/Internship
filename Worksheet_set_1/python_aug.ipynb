{
 "cells": [
  {
   "cell_type": "code",
   "execution_count": 1,
   "id": "0cf08709",
   "metadata": {},
   "outputs": [],
   "source": [
    "import pandas as pd"
   ]
  },
  {
   "cell_type": "code",
   "execution_count": 2,
   "id": "f8f9d3ea",
   "metadata": {},
   "outputs": [
    {
     "name": "stdout",
     "output_type": "stream",
     "text": [
      "Enter number: 8\n",
      "The factorial of 8 is 40320\n"
     ]
    }
   ],
   "source": [
    "num = int(input('Enter number: '))\n",
    "factorial = 1\n",
    "\n",
    "if num < 0:\n",
    "    print(\"Factorial is not for negative numbers\")\n",
    "elif num == 0:\n",
    "    print(\"The factorial of 0 is 1\")\n",
    "else:\n",
    "    for i in range(1, num + 1):\n",
    "        factorial = factorial * i\n",
    "    print(\"The factorial of\", num, \"is\", factorial)\n",
    "    "
   ]
  },
  {
   "cell_type": "code",
   "execution_count": 3,
   "id": "6b4973ae",
   "metadata": {},
   "outputs": [
    {
     "name": "stdout",
     "output_type": "stream",
     "text": [
      "Enter number: 7\n",
      "7 is Prime number\n"
     ]
    }
   ],
   "source": [
    "num = int(input('Enter number: '))\n",
    "\n",
    "if num > 1:\n",
    "    for i in range(2, int(num/2) + 1):\n",
    "        if (num % i) == 0:\n",
    "            print(num, \"is not a Prime number\")\n",
    "            break\n",
    "    else:\n",
    "        print(num, \"is Prime number\")\n",
    "else:\n",
    "    print(num, \"is not a Prime number\")"
   ]
  },
  {
   "cell_type": "code",
   "execution_count": null,
   "id": "1e58ae26",
   "metadata": {},
   "outputs": [],
   "source": [
    "srt1 = input('Enter string : ')\n",
    "str1 = str1.casefold()\n",
    "rev_str = reversed(str1)\n",
    "if list (str1) == list(rev_str):\n",
    "    print(\"The string is a palidrome\")\n",
    "else :\n",
    "    print(\"The string is not a palidrome\")"
   ]
  },
  {
   "cell_type": "code",
   "execution_count": null,
   "id": "c6d7c17f",
   "metadata": {},
   "outputs": [
    {
     "name": "stdout",
     "output_type": "stream",
     "text": [
      "Input lengths of shorter triangle sides:\n"
     ]
    }
   ],
   "source": [
    "from math import sqrt\n",
    "print(\"Input lengths of shorter triangle sides:\")\n",
    "a = float(input(\"a: \"))\n",
    "b = float(input(\"b: \"))\n",
    "c = sqrt(a**2 + b**2)\n",
    "print(\"The length of the hypotenuse is:\", c )\n"
   ]
  },
  {
   "cell_type": "code",
   "execution_count": 24,
   "id": "fd7e4c58",
   "metadata": {},
   "outputs": [
    {
     "name": "stdout",
     "output_type": "stream",
     "text": [
      "Enter String :sonika\n",
      "Count of all characters in GeeksforGeeks is :\n",
      " {'s': 1, 'o': 1, 'n': 1, 'i': 1, 'k': 1, 'a': 1}\n"
     ]
    }
   ],
   "source": [
    "\n",
    "test_str = (input('Enter String :'))\n",
    " \n",
    "all_freq = {}\n",
    " \n",
    "for i in test_str:\n",
    "    if i in all_freq:\n",
    "        all_freq[i] += 1\n",
    "    else:\n",
    "        all_freq[i] = 1\n",
    " \n",
    "\n",
    "print(\"Count of all characters in GeeksforGeeks is :\\n \" + str(all_freq))\n",
    "\n"
   ]
  },
  {
   "cell_type": "code",
   "execution_count": null,
   "id": "25dab7e7",
   "metadata": {},
   "outputs": [],
   "source": []
  }
 ],
 "metadata": {
  "kernelspec": {
   "display_name": "Python 3 (ipykernel)",
   "language": "python",
   "name": "python3"
  },
  "language_info": {
   "codemirror_mode": {
    "name": "ipython",
    "version": 3
   },
   "file_extension": ".py",
   "mimetype": "text/x-python",
   "name": "python",
   "nbconvert_exporter": "python",
   "pygments_lexer": "ipython3",
   "version": "3.9.13"
  }
 },
 "nbformat": 4,
 "nbformat_minor": 5
}
